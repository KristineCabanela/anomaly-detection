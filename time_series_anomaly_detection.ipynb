{
 "cells": [
  {
   "cell_type": "code",
   "execution_count": 1,
   "id": "a0501b5d",
   "metadata": {},
   "outputs": [],
   "source": [
    "import warnings\n",
    "warnings.filterwarnings(\"ignore\")\n",
    "import matplotlib.pyplot as plt\n",
    "\n",
    "import numpy as np\n",
    "import pandas as pd\n",
    "import seaborn as sns\n",
    "import env"
   ]
  },
  {
   "cell_type": "markdown",
   "id": "d166dda3",
   "metadata": {},
   "source": [
    "# Exercises\n",
    "- file name: `time_series_anomaly_detection.py` or `time_series_anomaly_detection.ipynb`\n",
    "\n",
    "The dataset for these exercises lives in the Codeup Data Science MySQL Server. The database name is curriculum_logs.\n",
    "\n",
    "**Hint**: You will need to explore the database and significantly adjust your acquisition step (yay SQL!)\n",
    "\n",
    "1. Label students by the program they are in.\n",
    "1. Is it possible to identify the user_id of a staff member?\n",
    "1. Identify students who are accessing our curriculum pages beyond the end of their time at Codeup.\n",
    "1. Identify students who present anomalous activity using the Bollinger Band method, but reduce K to 2. \n",
    "1. Plot the access activity of these students.\n",
    "\n",
    "**BONUS:** Identify users who are viewing both the web dev and data science curriculum "
   ]
  },
  {
   "cell_type": "code",
   "execution_count": null,
   "id": "daad4480",
   "metadata": {},
   "outputs": [],
   "source": []
  },
  {
   "cell_type": "code",
   "execution_count": null,
   "id": "7b3c9609",
   "metadata": {},
   "outputs": [],
   "source": []
  }
 ],
 "metadata": {
  "kernelspec": {
   "display_name": "Python 3",
   "language": "python",
   "name": "python3"
  },
  "language_info": {
   "codemirror_mode": {
    "name": "ipython",
    "version": 3
   },
   "file_extension": ".py",
   "mimetype": "text/x-python",
   "name": "python",
   "nbconvert_exporter": "python",
   "pygments_lexer": "ipython3",
   "version": "3.8.8"
  }
 },
 "nbformat": 4,
 "nbformat_minor": 5
}
